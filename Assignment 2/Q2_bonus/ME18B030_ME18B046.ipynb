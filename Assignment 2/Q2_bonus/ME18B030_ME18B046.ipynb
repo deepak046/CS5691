{
  "nbformat": 4,
  "nbformat_minor": 0,
  "metadata": {
    "colab": {
      "name": "ME18B030_ME18B046_Direhorse_Bonus.ipynb",
      "provenance": [],
      "collapsed_sections": []
    },
    "kernelspec": {
      "name": "python3",
      "display_name": "Python 3"
    },
    "language_info": {
      "name": "python"
    }
  },
  "cells": [
    {
      "cell_type": "markdown",
      "metadata": {
        "id": "cgXmoUKyd2TL"
      },
      "source": [
        "Part-f (optional bonus) Code from scratch for the backpropagation algorithm"
      ]
    },
    {
      "cell_type": "code",
      "metadata": {
        "id": "agT3W3FjWmCG"
      },
      "source": [
        "import numpy as np\n",
        "import pandas as pd\n",
        "\n",
        "np.random.seed(0)"
      ],
      "execution_count": 85,
      "outputs": []
    },
    {
      "cell_type": "code",
      "metadata": {
        "colab": {
          "base_uri": "https://localhost:8080/"
        },
        "id": "1IFtg_TaZ1ea",
        "outputId": "11135b9b-dabe-4313-dc99-d3bea8605e5d"
      },
      "source": [
        "df = pd.read_csv('direhorse_data.csv')\n",
        "shuffled_df = df.sample(frac=1,random_state=1).reset_index(drop=True)\n",
        "\n",
        "X_train, y_train = shuffled_df[:50]['Ages'], shuffled_df[:50]['Weights']\n",
        "X_test, y_test = shuffled_df[50:]['Ages'], df[50:]['Weights'] \n",
        "\n",
        "X_train = np.array(X_train).reshape(1,X_train.shape[0])\n",
        "y_train = np.array(y_train).reshape(1, y_train.shape[0])\n",
        "X_test = np.array(X_test).reshape(1,X_test.shape[0])\n",
        "y_test = np.array(y_test).reshape(1, y_test.shape[0])\n",
        "print ('Train X Shape: ', X_train.shape)\n",
        "print ('Test X Shape: ', X_test.shape)"
      ],
      "execution_count": 86,
      "outputs": [
        {
          "output_type": "stream",
          "name": "stdout",
          "text": [
            "Train X Shape:  (1, 50)\n",
            "Test X Shape:  (1, 21)\n"
          ]
        }
      ]
    },
    {
      "cell_type": "code",
      "metadata": {
        "id": "XebBIADfcQGE"
      },
      "source": [
        "def sigmoid(x):\n",
        "  return 1/(1+np.exp(-x))\n",
        "def sigmoid_der(x):\n",
        "  return sigmoid(x)*(1-sigmoid(x))\n",
        "def tanh(x):\n",
        "  return (np.exp(x)-np.exp(-x))/(np.exp(+x)+np.exp(-x))\n",
        "def tanh_der(x):\n",
        "  return 1 - np.power(tanh(x),2)\n",
        "def relu(x):\n",
        "  x[x<0] = 0\n",
        "  return x"
      ],
      "execution_count": 87,
      "outputs": []
    },
    {
      "cell_type": "code",
      "metadata": {
        "id": "s4WuPctNqfuu"
      },
      "source": [
        "def normalize(X):\n",
        "  norm = np.linalg.norm(X)\n",
        "  return X/norm"
      ],
      "execution_count": 88,
      "outputs": []
    },
    {
      "cell_type": "code",
      "metadata": {
        "id": "M4Lkgq0hY2bF"
      },
      "source": [
        "def parameters_initialization(input_unit, hidden_unit, output_unit):\n",
        "    W1 = np.random.randn(hidden_unit, input_unit)*((2/hidden_unit)**0.5)\n",
        "    b1 = np.zeros((hidden_unit, 1))\n",
        "    W2 = np.random.randn(output_unit, hidden_unit)*((2/hidden_unit)**0.5)\n",
        "    b2 = np.zeros((output_unit, 1))\n",
        "    parameters = {\"W1\": W1,\n",
        "                  \"b1\": b1,\n",
        "                  \"W2\": W2,\n",
        "                  \"b2\": b2}\n",
        "    \n",
        "    return parameters"
      ],
      "execution_count": 89,
      "outputs": []
    },
    {
      "cell_type": "code",
      "metadata": {
        "id": "Upy7O2ttaHBO"
      },
      "source": [
        "def forward_propagation(X, parameters):\n",
        "    W1 = parameters['W1']\n",
        "    b1 = parameters['b1']\n",
        "    W2 = parameters['W2']\n",
        "    b2 = parameters['b2']\n",
        "    \n",
        "    Z1 = np.dot(W1, X) + b1\n",
        "    A1 = sigmoid(Z1)\n",
        "    Z2 = np.dot(W2, A1) + b2\n",
        "    A2 = Z2\n",
        "    cache = {\"Z1\": Z1,\"A1\": A1,\"Z2\": Z2,\"A2\": A2}\n",
        "    \n",
        "    return A2, cache"
      ],
      "execution_count": 90,
      "outputs": []
    },
    {
      "cell_type": "code",
      "metadata": {
        "id": "kIdCEed4aiou"
      },
      "source": [
        "def mse(A2, Y):\n",
        "    m = Y.shape[1] \n",
        "    cost = (1/2)*np.sum(np.square(A2-Y))/m\n",
        "    cost = float(np.squeeze(cost))\n",
        "\n",
        "    return cost"
      ],
      "execution_count": 91,
      "outputs": []
    },
    {
      "cell_type": "code",
      "metadata": {
        "id": "eYnLM1jea-5E"
      },
      "source": [
        "def backward_propagation(parameters, cache, X, Y):\n",
        "    #number of training example\n",
        "    m = X.shape[1]\n",
        "    \n",
        "    W1 = parameters['W1']\n",
        "    W2 = parameters['W2']\n",
        "    A1 = cache['A1']\n",
        "    A2 = cache['A2']\n",
        "    Z1 = cache['Z1']\n",
        "    Z2 = cache['Z2']\n",
        "   \n",
        "    dZ2 = (A2-Y)\n",
        "    dW2 = (1/m) * np.dot(dZ2, A1.T)\n",
        "    db2 = (1/m) * np.sum(dZ2, axis=1, keepdims=True)\n",
        "    dZ1 = np.multiply(np.dot(W2.T, dZ2), sigmoid_der(Z2))\n",
        "    dW1 = (1/m) * np.dot(dZ1, X.T) \n",
        "    db1 = (1/m)*np.sum(dZ1, axis=1, keepdims=True)\n",
        "    \n",
        "    grads = {\"dW1\": dW1, \"db1\": db1, \"dW2\": dW2,\"db2\": db2}\n",
        "    \n",
        "    return grads"
      ],
      "execution_count": 92,
      "outputs": []
    },
    {
      "cell_type": "code",
      "metadata": {
        "id": "O1Ayuq_QbCuI"
      },
      "source": [
        "def gradient_descent(parameters, grads, learning_rate = 0.001):\n",
        "    W1 = parameters['W1']\n",
        "    b1 = parameters['b1']\n",
        "    W2 = parameters['W2']\n",
        "    b2 = parameters['b2']\n",
        "   \n",
        "    dW1 = grads['dW1']\n",
        "    db1 = grads['db1']\n",
        "    dW2 = grads['dW2']\n",
        "    db2 = grads['db2']\n",
        "    W1 = W1 - learning_rate * dW1\n",
        "    b1 = b1 - learning_rate * db1\n",
        "    W2 = W2 - learning_rate * dW2\n",
        "    b2 = b2 - learning_rate * db2\n",
        "    \n",
        "    parameters = {\"W1\": W1, \"b1\": b1,\"W2\": W2,\"b2\": b2}\n",
        "    \n",
        "    return parameters"
      ],
      "execution_count": 93,
      "outputs": []
    },
    {
      "cell_type": "code",
      "metadata": {
        "colab": {
          "base_uri": "https://localhost:8080/"
        },
        "id": "nO0ZnNGIbgmp",
        "outputId": "1a8670f4-b859-4d70-ffad-a660d362a472"
      },
      "source": [
        "def neural_network_model(X, Y, hidden_unit, num_iterations = 1000, verbose=True):\n",
        "    input_unit = 1\n",
        "    output_unit = 1\n",
        "    \n",
        "    parameters = parameters_initialization(input_unit, hidden_unit, output_unit)\n",
        "   \n",
        "    W1 = parameters['W1']\n",
        "    b1 = parameters['b1']\n",
        "    W2 = parameters['W2']\n",
        "    b2 = parameters['b2']\n",
        "    \n",
        "    for i in range(0, num_iterations+1):\n",
        "        A2, cache = forward_propagation(X, parameters)\n",
        "        cost = mse(A2, Y)\n",
        "        grads = backward_propagation(parameters, cache, X, Y)\n",
        "        prev = parameters\n",
        "        parameters = gradient_descent(parameters, grads)\n",
        "        if verbose:\n",
        "          if i % 100 == 0:\n",
        "              print (\"Cost after iteration %i: %f &\" %(i, cost), \"Validation Cost %i: %f\" %(i,mse(forward_propagation(X_test,parameters)[0],y_test)))\n",
        "\n",
        "    return parameters\n",
        "\n",
        "parameters = neural_network_model(X_train, y_train, 100)"
      ],
      "execution_count": 94,
      "outputs": [
        {
          "output_type": "stream",
          "name": "stderr",
          "text": [
            "/usr/local/lib/python3.7/dist-packages/ipykernel_launcher.py:2: RuntimeWarning: overflow encountered in exp\n",
            "  \n"
          ]
        },
        {
          "output_type": "stream",
          "name": "stdout",
          "text": [
            "Cost after iteration 0: 13178.819397 & Validation Cost 0: 21153.060640\n",
            "Cost after iteration 100: 1850.881874 & Validation Cost 100: 2390.057107\n",
            "Cost after iteration 200: 1836.800726 & Validation Cost 200: 2337.905507\n",
            "Cost after iteration 300: 1823.346443 & Validation Cost 300: 2346.486763\n",
            "Cost after iteration 400: 1810.024782 & Validation Cost 400: 2355.517705\n",
            "Cost after iteration 500: 1796.834387 & Validation Cost 500: 2364.593314\n",
            "Cost after iteration 600: 1783.773939 & Validation Cost 600: 2373.709802\n",
            "Cost after iteration 700: 1770.842132 & Validation Cost 700: 2382.866103\n",
            "Cost after iteration 800: 1758.037673 & Validation Cost 800: 2392.061183\n",
            "Cost after iteration 900: 1745.359281 & Validation Cost 900: 2401.294020\n",
            "Cost after iteration 1000: 1732.805691 & Validation Cost 1000: 2410.563607\n"
          ]
        }
      ]
    },
    {
      "cell_type": "code",
      "metadata": {
        "id": "Fg11PZVMkDYf",
        "colab": {
          "base_uri": "https://localhost:8080/"
        },
        "outputId": "d8812c78-d9d5-4f7f-daa8-c6ddf03873a3"
      },
      "source": [
        "mse(forward_propagation(X_test,parameters)[0],y_test)"
      ],
      "execution_count": 95,
      "outputs": [
        {
          "output_type": "stream",
          "name": "stderr",
          "text": [
            "/usr/local/lib/python3.7/dist-packages/ipykernel_launcher.py:2: RuntimeWarning: overflow encountered in exp\n",
            "  \n"
          ]
        },
        {
          "output_type": "execute_result",
          "data": {
            "text/plain": [
              "2410.563607227052"
            ]
          },
          "metadata": {},
          "execution_count": 95
        }
      ]
    },
    {
      "cell_type": "code",
      "metadata": {
        "colab": {
          "base_uri": "https://localhost:8080/"
        },
        "id": "4Wgnqz947KPG",
        "outputId": "100df6c4-4f4c-4450-e1c7-54c7d3f93b3e"
      },
      "source": [
        "hidden_units_array = []\n",
        "MSEs = []\n",
        "for hidden_units in np.linspace(1,500,25):\n",
        "  hidden_units = int(hidden_units)\n",
        "  parameters = neural_network_model(normalize(X_train), y_train, hidden_units, verbose=False)\n",
        "  hidden_units_array.append(hidden_units)\n",
        "  MSEs.append(mse(forward_propagation(normalize(X_test),parameters)[0],y_test))\n",
        "  print(hidden_units,mse(forward_propagation(normalize(X_test),parameters)[0],y_test))"
      ],
      "execution_count": 96,
      "outputs": [
        {
          "output_type": "stream",
          "name": "stdout",
          "text": [
            "1 6064.09099846886\n",
            "21 2324.937326545779\n",
            "42 2319.443886149116\n",
            "63 2324.7527606614203\n",
            "84 2315.7009371592508\n",
            "104 2315.6154461907136\n",
            "125 2312.460218549788\n",
            "146 2308.070085196346\n",
            "167 2312.3833248529436\n",
            "188 2315.2302523137296\n",
            "208 2315.448274660022\n",
            "229 2314.7219580561723\n",
            "250 2314.6735221037984\n",
            "271 2310.9615202821883\n",
            "292 2314.035746135011\n",
            "312 2312.461359922078\n",
            "333 2312.3350960202647\n",
            "354 2313.0463504666386\n",
            "375 2311.1564327073575\n",
            "396 2312.114054727163\n",
            "416 2313.7551534412833\n",
            "437 2314.6358777723167\n",
            "458 2311.0316372061143\n",
            "479 2312.3797420050855\n",
            "500 2312.766648243312\n"
          ]
        }
      ]
    },
    {
      "cell_type": "code",
      "metadata": {
        "id": "-Ubia6jb78P6",
        "colab": {
          "base_uri": "https://localhost:8080/",
          "height": 295
        },
        "outputId": "5f22c8c9-8d3a-4140-b0fa-cf51ebdc2def"
      },
      "source": [
        "import matplotlib.pyplot as plt\n",
        "plt.plot(hidden_units_array,MSEs)\n",
        "plt.xlabel(\"Number of hidden units\")\n",
        "plt.ylabel(\"MSE\")\n",
        "plt.title(\"Validation MSE with respect to number of hidden units\")\n",
        "plt.show()"
      ],
      "execution_count": 97,
      "outputs": [
        {
          "output_type": "display_data",
          "data": {
            "image/png": "[encoded data removed]",
            "text/plain": [
              "<Figure size 432x288 with 1 Axes>"
            ]
          },
          "metadata": {
            "needs_background": "light"
          }
        }
      ]
    },
    {
      "cell_type": "code",
      "metadata": {
        "id": "8iihIXDqGrTP"
      },
      "source": [
        ""
      ],
      "execution_count": null,
      "outputs": []
    }
  ]
}