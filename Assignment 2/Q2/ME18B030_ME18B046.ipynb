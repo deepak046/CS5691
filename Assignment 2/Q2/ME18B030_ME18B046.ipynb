{
  "nbformat": 4,
  "nbformat_minor": 0,
  "metadata": {
    "colab": {
      "name": "ME18B030_ME18B046_Direhorse.ipynb",
      "provenance": [],
      "collapsed_sections": []
    },
    "kernelspec": {
      "name": "python3",
      "display_name": "Python 3"
    },
    "language_info": {
      "name": "python"
    }
  },
  "cells": [
    {
      "cell_type": "code",
      "metadata": {
        "id": "o2RXIO1Br2tf"
      },
      "source": [
        "import pandas as pd\n",
        "import tensorflow as tf\n",
        "import matplotlib.pyplot as plt\n",
        "import numpy as np\n",
        "from sklearn.metrics import mean_squared_error"
      ],
      "execution_count": null,
      "outputs": []
    },
    {
      "cell_type": "code",
      "metadata": {
        "colab": {
          "base_uri": "https://localhost:8080/",
          "height": 206
        },
        "id": "K5Fsgob0sR-D",
        "outputId": "77d0b809-5ffd-4544-a61a-a08869dc28d4"
      },
      "source": [
        "df = pd.read_csv('direhorse_data.csv')\n",
        "df.head()"
      ],
      "execution_count": null,
      "outputs": [
        {
          "output_type": "execute_result",
          "data": {
            "text/html": [
              "<div>\n",
              "<style scoped>\n",
              "    .dataframe tbody tr th:only-of-type {\n",
              "        vertical-align: middle;\n",
              "    }\n",
              "\n",
              "    .dataframe tbody tr th {\n",
              "        vertical-align: top;\n",
              "    }\n",
              "\n",
              "    .dataframe thead th {\n",
              "        text-align: right;\n",
              "    }\n",
              "</style>\n",
              "<table border=\"1\" class=\"dataframe\">\n",
              "  <thead>\n",
              "    <tr style=\"text-align: right;\">\n",
              "      <th></th>\n",
              "      <th>Ages</th>\n",
              "      <th>Weights</th>\n",
              "    </tr>\n",
              "  </thead>\n",
              "  <tbody>\n",
              "    <tr>\n",
              "      <th>0</th>\n",
              "      <td>15</td>\n",
              "      <td>21.66</td>\n",
              "    </tr>\n",
              "    <tr>\n",
              "      <th>1</th>\n",
              "      <td>15</td>\n",
              "      <td>22.75</td>\n",
              "    </tr>\n",
              "    <tr>\n",
              "      <th>2</th>\n",
              "      <td>15</td>\n",
              "      <td>22.30</td>\n",
              "    </tr>\n",
              "    <tr>\n",
              "      <th>3</th>\n",
              "      <td>18</td>\n",
              "      <td>31.25</td>\n",
              "    </tr>\n",
              "    <tr>\n",
              "      <th>4</th>\n",
              "      <td>28</td>\n",
              "      <td>44.79</td>\n",
              "    </tr>\n",
              "  </tbody>\n",
              "</table>\n",
              "</div>"
            ],
            "text/plain": [
              "   Ages  Weights\n",
              "0    15    21.66\n",
              "1    15    22.75\n",
              "2    15    22.30\n",
              "3    18    31.25\n",
              "4    28    44.79"
            ]
          },
          "metadata": {},
          "execution_count": 70
        }
      ]
    },
    {
      "cell_type": "code",
      "metadata": {
        "colab": {
          "base_uri": "https://localhost:8080/"
        },
        "id": "ellhqB00s5YK",
        "outputId": "c27a0d60-a717-47b4-8d8e-be23559e2657"
      },
      "source": [
        "df.shape"
      ],
      "execution_count": null,
      "outputs": [
        {
          "output_type": "execute_result",
          "data": {
            "text/plain": [
              "(71, 2)"
            ]
          },
          "metadata": {},
          "execution_count": 71
        }
      ]
    },
    {
      "cell_type": "code",
      "metadata": {
        "colab": {
          "base_uri": "https://localhost:8080/"
        },
        "id": "WlIJ4ETW99vA",
        "outputId": "274f3a5a-d52f-440c-abdd-e1862db89dd5"
      },
      "source": [
        "predictions = 233.846*(1-np.exp(-0.006042*df['Ages']))\n",
        "print(\"Mean Squared Error of the non-linear model\",mean_squared_error(predictions,df['Weights']))"
      ],
      "execution_count": null,
      "outputs": [
        {
          "output_type": "stream",
          "name": "stdout",
          "text": [
            "Mean Squared Error of the non-linear model 76.11624235046557\n"
          ]
        }
      ]
    },
    {
      "cell_type": "code",
      "metadata": {
        "colab": {
          "base_uri": "https://localhost:8080/",
          "height": 312
        },
        "id": "1ywnKmGbs6nm",
        "outputId": "e0051cec-0cb8-4ddd-979d-e9549e734297"
      },
      "source": [
        "df.plot.scatter(x='Ages',y='Weights',marker='o')\n",
        "plt.title('Scatter Plot')\n",
        "plt.plot(df['Ages'],predictions)"
      ],
      "execution_count": null,
      "outputs": [
        {
          "output_type": "execute_result",
          "data": {
            "text/plain": [
              "[<matplotlib.lines.Line2D at 0x7fae1b3b5b10>]"
            ]
          },
          "metadata": {},
          "execution_count": 73
        },
        {
          "output_type": "display_data",
          "data": {
            "image/png": "[encoded data removed]",
            "text/plain": [
              "<Figure size 432x288 with 1 Axes>"
            ]
          },
          "metadata": {
            "needs_background": "light"
          }
        }
      ]
    },
    {
      "cell_type": "code",
      "metadata": {
        "id": "JArNvlEE2lns"
      },
      "source": [
        "shuffled_df = df.sample(frac=1,random_state=1).reset_index(drop=True)\n",
        "x_train, y_train = shuffled_df['Ages'], shuffled_df['Weights']\n",
        "# x_test, y_test = df[50:]['Ages'], df[50:]['Weights'] "
      ],
      "execution_count": null,
      "outputs": []
    },
    {
      "cell_type": "code",
      "metadata": {
        "colab": {
          "base_uri": "https://localhost:8080/"
        },
        "id": "5daKa_Jk2zPP",
        "outputId": "f31d498e-f376-4222-e677-dab3420ffc09"
      },
      "source": [
        "model = tf.keras.models.Sequential([\n",
        "  # tf.keras.layers.Normalization(input_shape=[1,], axis=None),\n",
        "  tf.keras.layers.InputLayer(input_shape=(1,)),\n",
        "  tf.keras.layers.Dense(1024,activation='sigmoid'),\n",
        "  tf.keras.layers.Dropout(0.1),\n",
        "  tf.keras.layers.Dense(512,activation='relu'),\n",
        "  tf.keras.layers.Dense(1)\n",
        "])\n",
        "\n",
        "model.summary()"
      ],
      "execution_count": null,
      "outputs": [
        {
          "output_type": "stream",
          "name": "stdout",
          "text": [
            "Model: \"sequential_13\"\n",
            "_________________________________________________________________\n",
            " Layer (type)                Output Shape              Param #   \n",
            "=================================================================\n",
            " dense_39 (Dense)            (None, 1024)              2048      \n",
            "                                                                 \n",
            " dropout_12 (Dropout)        (None, 1024)              0         \n",
            "                                                                 \n",
            " dense_40 (Dense)            (None, 512)               524800    \n",
            "                                                                 \n",
            " dense_41 (Dense)            (None, 1)                 513       \n",
            "                                                                 \n",
            "=================================================================\n",
            "Total params: 527,361\n",
            "Trainable params: 527,361\n",
            "Non-trainable params: 0\n",
            "_________________________________________________________________\n"
          ]
        }
      ]
    },
    {
      "cell_type": "code",
      "metadata": {
        "id": "whIPwCNQ7Lxj"
      },
      "source": [
        "model.compile(optimizer='adam',\n",
        "              loss=tf.keras.losses.mean_squared_error,)"
      ],
      "execution_count": null,
      "outputs": []
    },
    {
      "cell_type": "code",
      "metadata": {
        "colab": {
          "base_uri": "https://localhost:8080/"
        },
        "id": "-n8EdGKW3_0O",
        "outputId": "629af74b-1431-4255-cb36-4640c4baf9f5"
      },
      "source": [
        "history = model.fit(x_train, y_train, epochs=250, validation_split=0.15)"
      ],
      "execution_count": null,
      "outputs": [
        {
          "output_type": "stream",
          "name": "stdout",
          "text": [
            "Epoch 1/250\n",
            "2/2 [==============================] - 1s 165ms/step - loss: 24689.1133 - val_loss: 17579.2520\n",
            "Epoch 2/250\n",
            "2/2 [==============================] - 0s 36ms/step - loss: 20481.8027 - val_loss: 14656.7031\n",
            "Epoch 3/250\n",
            "2/2 [==============================] - 0s 38ms/step - loss: 16936.8477 - val_loss: 11982.6875\n",
            "Epoch 4/250\n",
            "2/2 [==============================] - 0s 35ms/step - loss: 13375.9248 - val_loss: 9605.5771\n",
            "Epoch 5/250\n",
            "2/2 [==============================] - 0s 39ms/step - loss: 10172.6709 - val_loss: 7661.9282\n",
            "Epoch 6/250\n",
            "2/2 [==============================] - 0s 46ms/step - loss: 7416.8335 - val_loss: 6254.4263\n",
            "Epoch 7/250\n",
            "2/2 [==============================] - 0s 33ms/step - loss: 5078.2666 - val_loss: 5426.3169\n",
            "Epoch 8/250\n",
            "2/2 [==============================] - 0s 33ms/step - loss: 3698.3008 - val_loss: 5176.8262\n",
            "Epoch 9/250\n",
            "2/2 [==============================] - 0s 36ms/step - loss: 2922.7322 - val_loss: 5365.2163\n",
            "Epoch 10/250\n",
            "2/2 [==============================] - 0s 37ms/step - loss: 2833.5168 - val_loss: 5719.5659\n",
            "Epoch 11/250\n",
            "2/2 [==============================] - 0s 48ms/step - loss: 3099.2759 - val_loss: 5921.2168\n",
            "Epoch 12/250\n",
            "2/2 [==============================] - 0s 44ms/step - loss: 3321.2798 - val_loss: 5642.1553\n",
            "Epoch 13/250\n",
            "2/2 [==============================] - 0s 40ms/step - loss: 3152.0205 - val_loss: 5030.5254\n",
            "Epoch 14/250\n",
            "2/2 [==============================] - 0s 35ms/step - loss: 2744.2400 - val_loss: 4237.2520\n",
            "Epoch 15/250\n",
            "2/2 [==============================] - 0s 48ms/step - loss: 2266.4636 - val_loss: 3482.9006\n",
            "Epoch 16/250\n",
            "2/2 [==============================] - 0s 37ms/step - loss: 1801.3114 - val_loss: 2884.5334\n",
            "Epoch 17/250\n",
            "2/2 [==============================] - 0s 33ms/step - loss: 1566.6788 - val_loss: 2474.8535\n",
            "Epoch 18/250\n",
            "2/2 [==============================] - 0s 33ms/step - loss: 1445.4569 - val_loss: 2213.4912\n",
            "Epoch 19/250\n",
            "2/2 [==============================] - 0s 39ms/step - loss: 1496.8739 - val_loss: 2017.2484\n",
            "Epoch 20/250\n",
            "2/2 [==============================] - 0s 37ms/step - loss: 1434.2550 - val_loss: 1820.3164\n",
            "Epoch 21/250\n",
            "2/2 [==============================] - 0s 35ms/step - loss: 1300.2797 - val_loss: 1588.2898\n",
            "Epoch 22/250\n",
            "2/2 [==============================] - 0s 37ms/step - loss: 1140.8539 - val_loss: 1339.5261\n",
            "Epoch 23/250\n",
            "2/2 [==============================] - 0s 34ms/step - loss: 953.2851 - val_loss: 1091.3137\n",
            "Epoch 24/250\n",
            "2/2 [==============================] - 0s 31ms/step - loss: 768.4929 - val_loss: 861.7878\n",
            "Epoch 25/250\n",
            "2/2 [==============================] - 0s 32ms/step - loss: 565.4308 - val_loss: 655.9282\n",
            "Epoch 26/250\n",
            "2/2 [==============================] - 0s 38ms/step - loss: 436.0414 - val_loss: 471.0128\n",
            "Epoch 27/250\n",
            "2/2 [==============================] - 0s 32ms/step - loss: 330.9989 - val_loss: 324.3749\n",
            "Epoch 28/250\n",
            "2/2 [==============================] - 0s 52ms/step - loss: 249.3569 - val_loss: 225.0961\n",
            "Epoch 29/250\n",
            "2/2 [==============================] - 0s 48ms/step - loss: 177.4956 - val_loss: 154.1944\n",
            "Epoch 30/250\n",
            "2/2 [==============================] - 0s 34ms/step - loss: 131.4670 - val_loss: 114.3030\n",
            "Epoch 31/250\n",
            "2/2 [==============================] - 0s 41ms/step - loss: 97.6460 - val_loss: 95.2055\n",
            "Epoch 32/250\n",
            "2/2 [==============================] - 0s 38ms/step - loss: 98.6455 - val_loss: 84.0524\n",
            "Epoch 33/250\n",
            "2/2 [==============================] - 0s 41ms/step - loss: 98.7071 - val_loss: 76.6680\n",
            "Epoch 34/250\n",
            "2/2 [==============================] - 0s 36ms/step - loss: 90.0363 - val_loss: 71.0963\n",
            "Epoch 35/250\n",
            "2/2 [==============================] - 0s 38ms/step - loss: 87.2012 - val_loss: 73.1156\n",
            "Epoch 36/250\n",
            "2/2 [==============================] - 0s 35ms/step - loss: 82.0031 - val_loss: 75.0619\n",
            "Epoch 37/250\n",
            "2/2 [==============================] - 0s 35ms/step - loss: 67.3264 - val_loss: 70.0414\n",
            "Epoch 38/250\n",
            "2/2 [==============================] - 0s 32ms/step - loss: 66.9055 - val_loss: 77.4174\n",
            "Epoch 39/250\n",
            "2/2 [==============================] - 0s 36ms/step - loss: 72.5212 - val_loss: 79.2077\n",
            "Epoch 40/250\n",
            "2/2 [==============================] - 0s 32ms/step - loss: 60.3501 - val_loss: 74.6289\n",
            "Epoch 41/250\n",
            "2/2 [==============================] - 0s 33ms/step - loss: 75.6406 - val_loss: 75.0807\n",
            "Epoch 42/250\n",
            "2/2 [==============================] - 0s 35ms/step - loss: 59.9080 - val_loss: 84.5481\n",
            "Epoch 43/250\n",
            "2/2 [==============================] - 0s 39ms/step - loss: 79.2022 - val_loss: 75.7357\n",
            "Epoch 44/250\n",
            "2/2 [==============================] - 0s 35ms/step - loss: 77.1576 - val_loss: 68.2213\n",
            "Epoch 45/250\n",
            "2/2 [==============================] - 0s 33ms/step - loss: 75.3845 - val_loss: 87.6046\n",
            "Epoch 46/250\n",
            "2/2 [==============================] - 0s 45ms/step - loss: 91.0420 - val_loss: 74.6691\n",
            "Epoch 47/250\n",
            "2/2 [==============================] - 0s 32ms/step - loss: 66.6767 - val_loss: 64.7195\n",
            "Epoch 48/250\n",
            "2/2 [==============================] - 0s 34ms/step - loss: 82.8325 - val_loss: 84.9064\n",
            "Epoch 49/250\n",
            "2/2 [==============================] - 0s 34ms/step - loss: 77.5057 - val_loss: 92.1980\n",
            "Epoch 50/250\n",
            "2/2 [==============================] - 0s 41ms/step - loss: 65.0450 - val_loss: 67.1943\n",
            "Epoch 51/250\n",
            "2/2 [==============================] - 0s 37ms/step - loss: 78.7396 - val_loss: 70.1260\n",
            "Epoch 52/250\n",
            "2/2 [==============================] - 0s 35ms/step - loss: 73.2867 - val_loss: 98.4433\n",
            "Epoch 53/250\n",
            "2/2 [==============================] - 0s 54ms/step - loss: 88.8276 - val_loss: 73.7487\n",
            "Epoch 54/250\n",
            "2/2 [==============================] - 0s 40ms/step - loss: 70.7073 - val_loss: 64.1548\n",
            "Epoch 55/250\n",
            "2/2 [==============================] - 0s 35ms/step - loss: 69.9545 - val_loss: 80.0398\n",
            "Epoch 56/250\n",
            "2/2 [==============================] - 0s 34ms/step - loss: 78.8839 - val_loss: 99.0793\n",
            "Epoch 57/250\n",
            "2/2 [==============================] - 0s 33ms/step - loss: 84.8500 - val_loss: 70.1521\n",
            "Epoch 58/250\n",
            "2/2 [==============================] - 0s 32ms/step - loss: 68.1729 - val_loss: 65.5952\n",
            "Epoch 59/250\n",
            "2/2 [==============================] - 0s 35ms/step - loss: 82.6221 - val_loss: 74.6646\n",
            "Epoch 60/250\n",
            "2/2 [==============================] - 0s 33ms/step - loss: 73.1288 - val_loss: 92.2749\n",
            "Epoch 61/250\n",
            "2/2 [==============================] - 0s 33ms/step - loss: 71.9730 - val_loss: 75.1632\n",
            "Epoch 62/250\n",
            "2/2 [==============================] - 0s 33ms/step - loss: 64.8618 - val_loss: 67.6260\n",
            "Epoch 63/250\n",
            "2/2 [==============================] - 0s 36ms/step - loss: 82.4750 - val_loss: 70.3174\n",
            "Epoch 64/250\n",
            "2/2 [==============================] - 0s 59ms/step - loss: 69.9313 - val_loss: 84.4768\n",
            "Epoch 65/250\n",
            "2/2 [==============================] - 0s 37ms/step - loss: 87.0124 - val_loss: 76.1964\n",
            "Epoch 66/250\n",
            "2/2 [==============================] - 0s 38ms/step - loss: 68.9129 - val_loss: 72.8270\n",
            "Epoch 67/250\n",
            "2/2 [==============================] - 0s 39ms/step - loss: 66.3066 - val_loss: 83.8657\n",
            "Epoch 68/250\n",
            "2/2 [==============================] - 0s 34ms/step - loss: 71.0133 - val_loss: 76.9089\n",
            "Epoch 69/250\n",
            "2/2 [==============================] - 0s 33ms/step - loss: 68.2145 - val_loss: 68.2625\n",
            "Epoch 70/250\n",
            "2/2 [==============================] - 0s 36ms/step - loss: 77.3467 - val_loss: 71.3210\n",
            "Epoch 71/250\n",
            "2/2 [==============================] - 0s 33ms/step - loss: 68.2475 - val_loss: 81.3774\n",
            "Epoch 72/250\n",
            "2/2 [==============================] - 0s 35ms/step - loss: 69.4659 - val_loss: 79.6199\n",
            "Epoch 73/250\n",
            "2/2 [==============================] - 0s 38ms/step - loss: 62.9369 - val_loss: 71.3168\n",
            "Epoch 74/250\n",
            "2/2 [==============================] - 0s 39ms/step - loss: 76.7689 - val_loss: 81.6311\n",
            "Epoch 75/250\n",
            "2/2 [==============================] - 0s 38ms/step - loss: 66.8108 - val_loss: 79.5922\n",
            "Epoch 76/250\n",
            "2/2 [==============================] - 0s 36ms/step - loss: 70.0535 - val_loss: 74.7556\n",
            "Epoch 77/250\n",
            "2/2 [==============================] - 0s 44ms/step - loss: 68.8581 - val_loss: 79.0404\n",
            "Epoch 78/250\n",
            "2/2 [==============================] - 0s 38ms/step - loss: 65.0811 - val_loss: 73.7392\n",
            "Epoch 79/250\n",
            "2/2 [==============================] - 0s 41ms/step - loss: 56.9575 - val_loss: 68.5441\n",
            "Epoch 80/250\n",
            "2/2 [==============================] - 0s 39ms/step - loss: 79.6251 - val_loss: 70.1672\n",
            "Epoch 81/250\n",
            "2/2 [==============================] - 0s 50ms/step - loss: 61.8039 - val_loss: 85.6210\n",
            "Epoch 82/250\n",
            "2/2 [==============================] - 0s 40ms/step - loss: 70.9323 - val_loss: 73.3033\n",
            "Epoch 83/250\n",
            "2/2 [==============================] - 0s 37ms/step - loss: 63.5393 - val_loss: 64.5244\n",
            "Epoch 84/250\n",
            "2/2 [==============================] - 0s 37ms/step - loss: 70.7228 - val_loss: 70.3054\n",
            "Epoch 85/250\n",
            "2/2 [==============================] - 0s 41ms/step - loss: 55.5782 - val_loss: 80.9439\n",
            "Epoch 86/250\n",
            "2/2 [==============================] - 0s 36ms/step - loss: 65.0558 - val_loss: 73.2701\n",
            "Epoch 87/250\n",
            "2/2 [==============================] - 0s 44ms/step - loss: 66.2459 - val_loss: 66.6793\n",
            "Epoch 88/250\n",
            "2/2 [==============================] - 0s 41ms/step - loss: 76.4608 - val_loss: 68.5911\n",
            "Epoch 89/250\n",
            "2/2 [==============================] - 0s 41ms/step - loss: 62.4990 - val_loss: 78.5570\n",
            "Epoch 90/250\n",
            "2/2 [==============================] - 0s 35ms/step - loss: 60.1694 - val_loss: 83.5498\n",
            "Epoch 91/250\n",
            "2/2 [==============================] - 0s 35ms/step - loss: 73.2859 - val_loss: 76.2411\n",
            "Epoch 92/250\n",
            "2/2 [==============================] - 0s 35ms/step - loss: 75.9819 - val_loss: 65.7490\n",
            "Epoch 93/250\n",
            "2/2 [==============================] - 0s 46ms/step - loss: 61.3253 - val_loss: 68.0825\n",
            "Epoch 94/250\n",
            "2/2 [==============================] - 0s 39ms/step - loss: 57.5893 - val_loss: 78.2369\n",
            "Epoch 95/250\n",
            "2/2 [==============================] - 0s 42ms/step - loss: 72.1408 - val_loss: 72.0680\n",
            "Epoch 96/250\n",
            "2/2 [==============================] - 0s 42ms/step - loss: 76.9324 - val_loss: 68.2738\n",
            "Epoch 97/250\n",
            "2/2 [==============================] - 0s 48ms/step - loss: 80.9621 - val_loss: 73.5201\n",
            "Epoch 98/250\n",
            "2/2 [==============================] - 0s 37ms/step - loss: 63.1582 - val_loss: 71.1711\n",
            "Epoch 99/250\n",
            "2/2 [==============================] - 0s 37ms/step - loss: 57.8474 - val_loss: 71.0510\n",
            "Epoch 100/250\n",
            "2/2 [==============================] - 0s 36ms/step - loss: 63.4930 - val_loss: 71.1967\n",
            "Epoch 101/250\n",
            "2/2 [==============================] - 0s 32ms/step - loss: 68.9995 - val_loss: 69.8611\n",
            "Epoch 102/250\n",
            "2/2 [==============================] - 0s 34ms/step - loss: 77.6759 - val_loss: 68.2830\n",
            "Epoch 103/250\n",
            "2/2 [==============================] - 0s 39ms/step - loss: 57.0235 - val_loss: 74.8103\n",
            "Epoch 104/250\n",
            "2/2 [==============================] - 0s 36ms/step - loss: 66.0281 - val_loss: 70.3254\n",
            "Epoch 105/250\n",
            "2/2 [==============================] - 0s 37ms/step - loss: 56.6626 - val_loss: 65.6979\n",
            "Epoch 106/250\n",
            "2/2 [==============================] - 0s 47ms/step - loss: 68.8737 - val_loss: 67.6168\n",
            "Epoch 107/250\n",
            "2/2 [==============================] - 0s 42ms/step - loss: 71.0558 - val_loss: 74.8667\n",
            "Epoch 108/250\n",
            "2/2 [==============================] - 0s 42ms/step - loss: 58.3164 - val_loss: 76.6474\n",
            "Epoch 109/250\n",
            "2/2 [==============================] - 0s 35ms/step - loss: 73.7041 - val_loss: 72.6071\n",
            "Epoch 110/250\n",
            "2/2 [==============================] - 0s 33ms/step - loss: 62.3994 - val_loss: 66.5523\n",
            "Epoch 111/250\n",
            "2/2 [==============================] - 0s 51ms/step - loss: 66.9039 - val_loss: 69.5230\n",
            "Epoch 112/250\n",
            "2/2 [==============================] - 0s 50ms/step - loss: 73.5249 - val_loss: 77.9504\n",
            "Epoch 113/250\n",
            "2/2 [==============================] - 0s 35ms/step - loss: 68.9937 - val_loss: 71.6291\n",
            "Epoch 114/250\n",
            "2/2 [==============================] - 0s 46ms/step - loss: 77.1894 - val_loss: 66.4244\n",
            "Epoch 115/250\n",
            "2/2 [==============================] - 0s 37ms/step - loss: 79.2673 - val_loss: 79.5069\n",
            "Epoch 116/250\n",
            "2/2 [==============================] - 0s 36ms/step - loss: 76.7265 - val_loss: 73.9618\n",
            "Epoch 117/250\n",
            "2/2 [==============================] - 0s 36ms/step - loss: 60.5592 - val_loss: 68.6257\n",
            "Epoch 118/250\n",
            "2/2 [==============================] - 0s 36ms/step - loss: 75.8949 - val_loss: 79.6730\n",
            "Epoch 119/250\n",
            "2/2 [==============================] - 0s 34ms/step - loss: 74.4067 - val_loss: 86.5389\n",
            "Epoch 120/250\n",
            "2/2 [==============================] - 0s 36ms/step - loss: 79.4150 - val_loss: 64.8127\n",
            "Epoch 121/250\n",
            "2/2 [==============================] - 0s 33ms/step - loss: 76.2515 - val_loss: 69.8845\n",
            "Epoch 122/250\n",
            "2/2 [==============================] - 0s 35ms/step - loss: 69.5160 - val_loss: 80.3811\n",
            "Epoch 123/250\n",
            "2/2 [==============================] - 0s 42ms/step - loss: 70.9600 - val_loss: 80.4116\n",
            "Epoch 124/250\n",
            "2/2 [==============================] - 0s 44ms/step - loss: 76.7232 - val_loss: 74.4304\n",
            "Epoch 125/250\n",
            "2/2 [==============================] - 0s 38ms/step - loss: 78.2229 - val_loss: 69.3559\n",
            "Epoch 126/250\n",
            "2/2 [==============================] - 0s 37ms/step - loss: 65.1615 - val_loss: 72.9638\n",
            "Epoch 127/250\n",
            "2/2 [==============================] - 0s 39ms/step - loss: 66.6704 - val_loss: 87.3441\n",
            "Epoch 128/250\n",
            "2/2 [==============================] - 0s 40ms/step - loss: 84.2421 - val_loss: 74.3442\n",
            "Epoch 129/250\n",
            "2/2 [==============================] - 0s 41ms/step - loss: 60.2159 - val_loss: 64.2616\n",
            "Epoch 130/250\n",
            "2/2 [==============================] - 0s 41ms/step - loss: 68.6294 - val_loss: 74.6707\n",
            "Epoch 131/250\n",
            "2/2 [==============================] - 0s 41ms/step - loss: 72.6784 - val_loss: 100.5228\n",
            "Epoch 132/250\n",
            "2/2 [==============================] - 0s 62ms/step - loss: 85.9993 - val_loss: 65.9383\n",
            "Epoch 133/250\n",
            "2/2 [==============================] - 0s 40ms/step - loss: 74.9928 - val_loss: 63.8365\n",
            "Epoch 134/250\n",
            "2/2 [==============================] - 0s 44ms/step - loss: 64.6998 - val_loss: 85.9753\n",
            "Epoch 135/250\n",
            "2/2 [==============================] - 0s 45ms/step - loss: 85.9494 - val_loss: 82.4030\n",
            "Epoch 136/250\n",
            "2/2 [==============================] - 0s 41ms/step - loss: 71.6119 - val_loss: 67.1387\n",
            "Epoch 137/250\n",
            "2/2 [==============================] - 0s 40ms/step - loss: 69.2726 - val_loss: 67.5536\n",
            "Epoch 138/250\n",
            "2/2 [==============================] - 0s 40ms/step - loss: 79.8783 - val_loss: 83.3510\n",
            "Epoch 139/250\n",
            "2/2 [==============================] - 0s 39ms/step - loss: 78.4745 - val_loss: 81.8581\n",
            "Epoch 140/250\n",
            "2/2 [==============================] - 0s 40ms/step - loss: 69.1268 - val_loss: 68.0451\n",
            "Epoch 141/250\n",
            "2/2 [==============================] - 0s 45ms/step - loss: 76.3310 - val_loss: 66.4577\n",
            "Epoch 142/250\n",
            "2/2 [==============================] - 0s 48ms/step - loss: 61.5738 - val_loss: 77.4038\n",
            "Epoch 143/250\n",
            "2/2 [==============================] - 0s 44ms/step - loss: 68.3101 - val_loss: 77.8320\n",
            "Epoch 144/250\n",
            "2/2 [==============================] - 0s 40ms/step - loss: 67.8599 - val_loss: 70.5202\n",
            "Epoch 145/250\n",
            "2/2 [==============================] - 0s 37ms/step - loss: 63.2935 - val_loss: 77.6700\n",
            "Epoch 146/250\n",
            "2/2 [==============================] - 0s 37ms/step - loss: 74.4256 - val_loss: 88.6244\n",
            "Epoch 147/250\n",
            "2/2 [==============================] - 0s 40ms/step - loss: 73.0907 - val_loss: 67.5046\n",
            "Epoch 148/250\n",
            "2/2 [==============================] - 0s 39ms/step - loss: 80.5131 - val_loss: 66.6092\n",
            "Epoch 149/250\n",
            "2/2 [==============================] - 0s 44ms/step - loss: 84.1351 - val_loss: 84.3370\n",
            "Epoch 150/250\n",
            "2/2 [==============================] - 0s 41ms/step - loss: 55.5745 - val_loss: 73.5997\n",
            "Epoch 151/250\n",
            "2/2 [==============================] - 0s 43ms/step - loss: 78.4075 - val_loss: 66.6390\n",
            "Epoch 152/250\n",
            "2/2 [==============================] - 0s 40ms/step - loss: 72.0709 - val_loss: 71.5128\n",
            "Epoch 153/250\n",
            "2/2 [==============================] - 0s 41ms/step - loss: 71.8146 - val_loss: 71.0538\n",
            "Epoch 154/250\n",
            "2/2 [==============================] - 0s 40ms/step - loss: 63.8752 - val_loss: 75.0208\n",
            "Epoch 155/250\n",
            "2/2 [==============================] - 0s 42ms/step - loss: 57.9416 - val_loss: 77.3538\n",
            "Epoch 156/250\n",
            "2/2 [==============================] - 0s 43ms/step - loss: 62.0672 - val_loss: 70.2269\n",
            "Epoch 157/250\n",
            "2/2 [==============================] - 0s 39ms/step - loss: 60.3334 - val_loss: 73.1525\n",
            "Epoch 158/250\n",
            "2/2 [==============================] - 0s 40ms/step - loss: 54.0852 - val_loss: 76.5353\n",
            "Epoch 159/250\n",
            "2/2 [==============================] - 0s 42ms/step - loss: 66.9893 - val_loss: 75.5667\n",
            "Epoch 160/250\n",
            "2/2 [==============================] - 0s 57ms/step - loss: 64.5197 - val_loss: 70.7855\n",
            "Epoch 161/250\n",
            "2/2 [==============================] - 0s 44ms/step - loss: 78.2710 - val_loss: 64.3767\n",
            "Epoch 162/250\n",
            "2/2 [==============================] - 0s 41ms/step - loss: 70.6349 - val_loss: 71.1597\n",
            "Epoch 163/250\n",
            "2/2 [==============================] - 0s 33ms/step - loss: 67.0907 - val_loss: 74.7013\n",
            "Epoch 164/250\n",
            "2/2 [==============================] - 0s 45ms/step - loss: 68.1735 - val_loss: 80.8539\n",
            "Epoch 165/250\n",
            "2/2 [==============================] - 0s 42ms/step - loss: 72.4015 - val_loss: 82.4955\n",
            "Epoch 166/250\n",
            "2/2 [==============================] - 0s 39ms/step - loss: 62.0893 - val_loss: 71.6357\n",
            "Epoch 167/250\n",
            "2/2 [==============================] - 0s 39ms/step - loss: 70.0834 - val_loss: 67.3438\n",
            "Epoch 168/250\n",
            "2/2 [==============================] - 0s 41ms/step - loss: 71.8889 - val_loss: 76.6386\n",
            "Epoch 169/250\n",
            "2/2 [==============================] - 0s 35ms/step - loss: 76.2507 - val_loss: 76.9103\n",
            "Epoch 170/250\n",
            "2/2 [==============================] - 0s 46ms/step - loss: 74.3257 - val_loss: 65.2765\n",
            "Epoch 171/250\n",
            "2/2 [==============================] - 0s 40ms/step - loss: 76.3047 - val_loss: 76.7198\n",
            "Epoch 172/250\n",
            "2/2 [==============================] - 0s 36ms/step - loss: 64.3430 - val_loss: 83.9593\n",
            "Epoch 173/250\n",
            "2/2 [==============================] - 0s 58ms/step - loss: 59.0030 - val_loss: 77.6200\n",
            "Epoch 174/250\n",
            "2/2 [==============================] - 0s 38ms/step - loss: 79.7021 - val_loss: 71.5311\n",
            "Epoch 175/250\n",
            "2/2 [==============================] - 0s 43ms/step - loss: 67.5651 - val_loss: 79.4847\n",
            "Epoch 176/250\n",
            "2/2 [==============================] - 0s 42ms/step - loss: 70.4529 - val_loss: 75.5520\n",
            "Epoch 177/250\n",
            "2/2 [==============================] - 0s 40ms/step - loss: 69.2917 - val_loss: 75.0033\n",
            "Epoch 178/250\n",
            "2/2 [==============================] - 0s 45ms/step - loss: 75.0019 - val_loss: 71.5059\n",
            "Epoch 179/250\n",
            "2/2 [==============================] - 0s 39ms/step - loss: 63.1840 - val_loss: 66.3852\n",
            "Epoch 180/250\n",
            "2/2 [==============================] - 0s 45ms/step - loss: 62.6471 - val_loss: 78.2030\n",
            "Epoch 181/250\n",
            "2/2 [==============================] - 0s 43ms/step - loss: 65.3800 - val_loss: 74.0285\n",
            "Epoch 182/250\n",
            "2/2 [==============================] - 0s 38ms/step - loss: 77.6702 - val_loss: 64.3872\n",
            "Epoch 183/250\n",
            "2/2 [==============================] - 0s 40ms/step - loss: 72.5564 - val_loss: 67.3572\n",
            "Epoch 184/250\n",
            "2/2 [==============================] - 0s 40ms/step - loss: 68.1431 - val_loss: 85.8327\n",
            "Epoch 185/250\n",
            "2/2 [==============================] - 0s 36ms/step - loss: 70.3533 - val_loss: 78.3879\n",
            "Epoch 186/250\n",
            "2/2 [==============================] - 0s 51ms/step - loss: 65.2350 - val_loss: 67.5722\n",
            "Epoch 187/250\n",
            "2/2 [==============================] - 0s 40ms/step - loss: 61.0419 - val_loss: 69.7631\n",
            "Epoch 188/250\n",
            "2/2 [==============================] - 0s 41ms/step - loss: 70.2731 - val_loss: 68.2836\n",
            "Epoch 189/250\n",
            "2/2 [==============================] - 0s 40ms/step - loss: 65.7822 - val_loss: 74.5296\n",
            "Epoch 190/250\n",
            "2/2 [==============================] - 0s 43ms/step - loss: 70.5507 - val_loss: 80.1259\n",
            "Epoch 191/250\n",
            "2/2 [==============================] - 0s 37ms/step - loss: 73.3790 - val_loss: 67.5889\n",
            "Epoch 192/250\n",
            "2/2 [==============================] - 0s 41ms/step - loss: 75.9865 - val_loss: 66.4673\n",
            "Epoch 193/250\n",
            "2/2 [==============================] - 0s 39ms/step - loss: 77.1903 - val_loss: 72.4584\n",
            "Epoch 194/250\n",
            "2/2 [==============================] - 0s 37ms/step - loss: 69.8116 - val_loss: 73.8957\n",
            "Epoch 195/250\n",
            "2/2 [==============================] - 0s 39ms/step - loss: 58.8608 - val_loss: 83.0696\n",
            "Epoch 196/250\n",
            "2/2 [==============================] - 0s 46ms/step - loss: 55.9269 - val_loss: 72.0516\n",
            "Epoch 197/250\n",
            "2/2 [==============================] - 0s 41ms/step - loss: 57.3117 - val_loss: 65.4915\n",
            "Epoch 198/250\n",
            "2/2 [==============================] - 0s 41ms/step - loss: 69.2491 - val_loss: 71.4110\n",
            "Epoch 199/250\n",
            "2/2 [==============================] - 0s 49ms/step - loss: 76.1258 - val_loss: 73.3734\n",
            "Epoch 200/250\n",
            "2/2 [==============================] - 0s 44ms/step - loss: 65.8492 - val_loss: 87.8653\n",
            "Epoch 201/250\n",
            "2/2 [==============================] - 0s 39ms/step - loss: 72.6732 - val_loss: 68.3899\n",
            "Epoch 202/250\n",
            "2/2 [==============================] - 0s 37ms/step - loss: 74.1817 - val_loss: 63.2993\n",
            "Epoch 203/250\n",
            "2/2 [==============================] - 0s 37ms/step - loss: 65.6235 - val_loss: 78.5419\n",
            "Epoch 204/250\n",
            "2/2 [==============================] - 0s 36ms/step - loss: 68.2186 - val_loss: 79.9700\n",
            "Epoch 205/250\n",
            "2/2 [==============================] - 0s 41ms/step - loss: 73.5057 - val_loss: 69.2114\n",
            "Epoch 206/250\n",
            "2/2 [==============================] - 0s 36ms/step - loss: 68.0008 - val_loss: 69.4305\n",
            "Epoch 207/250\n",
            "2/2 [==============================] - 0s 38ms/step - loss: 74.2778 - val_loss: 69.3236\n",
            "Epoch 208/250\n",
            "2/2 [==============================] - 0s 34ms/step - loss: 55.2749 - val_loss: 69.7779\n",
            "Epoch 209/250\n",
            "2/2 [==============================] - 0s 43ms/step - loss: 65.2361 - val_loss: 73.7206\n",
            "Epoch 210/250\n",
            "2/2 [==============================] - 0s 41ms/step - loss: 71.1281 - val_loss: 80.0391\n",
            "Epoch 211/250\n",
            "2/2 [==============================] - 0s 42ms/step - loss: 68.4105 - val_loss: 64.2757\n",
            "Epoch 212/250\n",
            "2/2 [==============================] - 0s 36ms/step - loss: 63.8256 - val_loss: 62.5350\n",
            "Epoch 213/250\n",
            "2/2 [==============================] - 0s 36ms/step - loss: 77.0162 - val_loss: 80.0418\n",
            "Epoch 214/250\n",
            "2/2 [==============================] - 0s 36ms/step - loss: 88.8177 - val_loss: 87.0260\n",
            "Epoch 215/250\n",
            "2/2 [==============================] - 0s 38ms/step - loss: 59.8536 - val_loss: 61.4614\n",
            "Epoch 216/250\n",
            "2/2 [==============================] - 0s 48ms/step - loss: 69.5877 - val_loss: 61.7142\n",
            "Epoch 217/250\n",
            "2/2 [==============================] - 0s 39ms/step - loss: 66.1758 - val_loss: 77.3044\n",
            "Epoch 218/250\n",
            "2/2 [==============================] - 0s 36ms/step - loss: 71.5113 - val_loss: 88.0939\n",
            "Epoch 219/250\n",
            "2/2 [==============================] - 0s 37ms/step - loss: 60.8106 - val_loss: 71.9989\n",
            "Epoch 220/250\n",
            "2/2 [==============================] - 0s 35ms/step - loss: 83.0044 - val_loss: 64.5607\n",
            "Epoch 221/250\n",
            "2/2 [==============================] - 0s 38ms/step - loss: 57.7545 - val_loss: 82.5502\n",
            "Epoch 222/250\n",
            "2/2 [==============================] - 0s 45ms/step - loss: 65.9038 - val_loss: 74.1936\n",
            "Epoch 223/250\n",
            "2/2 [==============================] - 0s 36ms/step - loss: 65.4891 - val_loss: 63.9374\n",
            "Epoch 224/250\n",
            "2/2 [==============================] - 0s 40ms/step - loss: 62.7062 - val_loss: 67.2851\n",
            "Epoch 225/250\n",
            "2/2 [==============================] - 0s 39ms/step - loss: 70.6980 - val_loss: 78.3705\n",
            "Epoch 226/250\n",
            "2/2 [==============================] - 0s 39ms/step - loss: 62.9241 - val_loss: 85.4616\n",
            "Epoch 227/250\n",
            "2/2 [==============================] - 0s 39ms/step - loss: 66.2256 - val_loss: 63.1285\n",
            "Epoch 228/250\n",
            "2/2 [==============================] - 0s 36ms/step - loss: 79.8510 - val_loss: 64.0176\n",
            "Epoch 229/250\n",
            "2/2 [==============================] - 0s 38ms/step - loss: 93.8137 - val_loss: 89.6094\n",
            "Epoch 230/250\n",
            "2/2 [==============================] - 0s 38ms/step - loss: 75.0710 - val_loss: 71.6067\n",
            "Epoch 231/250\n",
            "2/2 [==============================] - 0s 36ms/step - loss: 72.2414 - val_loss: 66.3700\n",
            "Epoch 232/250\n",
            "2/2 [==============================] - 0s 53ms/step - loss: 71.8523 - val_loss: 76.3326\n",
            "Epoch 233/250\n",
            "2/2 [==============================] - 0s 39ms/step - loss: 61.9948 - val_loss: 73.7338\n",
            "Epoch 234/250\n",
            "2/2 [==============================] - 0s 37ms/step - loss: 66.3665 - val_loss: 67.9248\n",
            "Epoch 235/250\n",
            "2/2 [==============================] - 0s 37ms/step - loss: 64.6799 - val_loss: 65.2956\n",
            "Epoch 236/250\n",
            "2/2 [==============================] - 0s 51ms/step - loss: 62.6116 - val_loss: 82.9248\n",
            "Epoch 237/250\n",
            "2/2 [==============================] - 0s 41ms/step - loss: 73.3467 - val_loss: 82.7692\n",
            "Epoch 238/250\n",
            "2/2 [==============================] - 0s 41ms/step - loss: 67.8636 - val_loss: 63.4699\n",
            "Epoch 239/250\n",
            "2/2 [==============================] - 0s 38ms/step - loss: 67.7246 - val_loss: 66.3033\n",
            "Epoch 240/250\n",
            "2/2 [==============================] - 0s 46ms/step - loss: 72.0554 - val_loss: 84.6785\n",
            "Epoch 241/250\n",
            "2/2 [==============================] - 0s 45ms/step - loss: 66.1567 - val_loss: 73.0057\n",
            "Epoch 242/250\n",
            "2/2 [==============================] - 0s 45ms/step - loss: 82.5211 - val_loss: 62.4834\n",
            "Epoch 243/250\n",
            "2/2 [==============================] - 0s 39ms/step - loss: 71.9721 - val_loss: 74.2624\n",
            "Epoch 244/250\n",
            "2/2 [==============================] - 0s 39ms/step - loss: 68.5829 - val_loss: 86.0502\n",
            "Epoch 245/250\n",
            "2/2 [==============================] - 0s 43ms/step - loss: 80.4790 - val_loss: 62.1929\n",
            "Epoch 246/250\n",
            "2/2 [==============================] - 0s 50ms/step - loss: 74.6389 - val_loss: 67.1683\n",
            "Epoch 247/250\n",
            "2/2 [==============================] - 0s 39ms/step - loss: 83.2731 - val_loss: 84.7867\n",
            "Epoch 248/250\n",
            "2/2 [==============================] - 0s 41ms/step - loss: 69.9563 - val_loss: 75.2197\n",
            "Epoch 249/250\n",
            "2/2 [==============================] - 0s 37ms/step - loss: 76.2571 - val_loss: 65.3545\n",
            "Epoch 250/250\n",
            "2/2 [==============================] - 0s 43ms/step - loss: 57.3005 - val_loss: 69.5207\n"
          ]
        }
      ]
    },
    {
      "cell_type": "code",
      "metadata": {
        "colab": {
          "base_uri": "https://localhost:8080/",
          "height": 279
        },
        "id": "mDA11AVN6c8O",
        "outputId": "88082409-2dba-40f7-a25d-ad62531f3584"
      },
      "source": [
        "def plot_loss(history):\n",
        "  plt.plot(history.history['loss'], label='loss')\n",
        "  plt.plot(history.history['val_loss'], label='val_loss')\n",
        "  plt.ylim([0, 150])\n",
        "  plt.xlabel('Epoch')\n",
        "  plt.ylabel('Error')\n",
        "  plt.legend()\n",
        "  plt.grid(True)\n",
        "\n",
        "plot_loss(history)"
      ],
      "execution_count": null,
      "outputs": [
        {
          "output_type": "display_data",
          "data": {
            "image/png": "[encoded data removed]",
            "text/plain": [
              "<Figure size 432x288 with 1 Axes>"
            ]
          },
          "metadata": {
            "needs_background": "light"
          }
        }
      ]
    },
    {
      "cell_type": "code",
      "metadata": {
        "colab": {
          "base_uri": "https://localhost:8080/"
        },
        "id": "vYGkbhiKmNs0",
        "outputId": "22fbc4ef-8a15-4da6-8894-b5e7b1a1b5ab"
      },
      "source": [
        "print(\"Mean Squared Error of the trained ANN\",mean_squared_error(df['Weights'],model.predict(df['Ages'])))"
      ],
      "execution_count": null,
      "outputs": [
        {
          "output_type": "stream",
          "name": "stdout",
          "text": [
            "Mean Squared Error of the trained ANN 60.682102730374254\n"
          ]
        }
      ]
    },
    {
      "cell_type": "code",
      "metadata": {
        "colab": {
          "base_uri": "https://localhost:8080/",
          "height": 295
        },
        "id": "BdQeY0Sr_X1c",
        "outputId": "8d6c1f8e-d00a-49e5-9a32-15b9dc948df4"
      },
      "source": [
        "plt.plot(df['Ages'],model.predict(df['Ages']),label='ANN')\n",
        "plt.scatter(df['Ages'],df['Weights'],label='Data',marker='o')\n",
        "plt.plot(df['Ages'],predictions,label='Non Linear Model')\n",
        "plt.xlabel('Ages')\n",
        "plt.ylabel('Weights')\n",
        "plt.title(\"Comparing Performances\")\n",
        "plt.legend()\n",
        "plt.show()"
      ],
      "execution_count": null,
      "outputs": [
        {
          "output_type": "display_data",
          "data": {
            "image/png": "[encoded data removed]",
            "text/plain": [
              "<Figure size 432x288 with 1 Axes>"
            ]
          },
          "metadata": {
            "needs_background": "light"
          }
        }
      ]
    },
    {
      "cell_type": "code",
      "metadata": {
        "id": "0X2Vg45NEDrw"
      },
      "source": [
        ""
      ],
      "execution_count": null,
      "outputs": []
    }
  ]
}